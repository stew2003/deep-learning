{
  "cells": [
    {
      "cell_type": "markdown",
      "metadata": {
        "id": "cW-EyI5Lxpqi"
      },
      "source": [
        "# Copyright\n",
        "\n",
        "<PRE>\n",
        "Copyright (c) 2024 Bálint Gyires-Tóth - All Rights Reserved\n",
        "You may use and modify this code for research and development purpuses.\n",
        "Using this code for educational purposes (self-paced or instructor led) without the permission of the author is prohibited.\n",
        "</PRE>"
      ]
    },
    {
      "cell_type": "markdown",
      "metadata": {
        "id": "3EX4cCa4WKJu"
      },
      "source": [
        "# Convolutional Neural Network exercise\n",
        "\n",
        "In this notebook, you will build a convolutional neural network, which offers superior results over the previous MLP solution. Additionally, you will perform a more detailed evaluation."
      ]
    },
    {
      "cell_type": "code",
      "execution_count": 1,
      "metadata": {
        "id": "GdCMhy4HA2qd"
      },
      "outputs": [],
      "source": [
        "# imports\n",
        "from tensorflow.keras.datasets import cifar10\n",
        "from tensorflow.keras.utils import to_categorical\n",
        "import numpy as np\n",
        "import matplotlib.pyplot as plt\n",
        "from tensorflow.keras.models import Sequential\n",
        "from tensorflow.keras.layers import Dense, Conv2D, MaxPool2D, Flatten, Dropout, BatchNormalization\n",
        "from tensorflow.keras.initializers import HeNormal\n",
        "from tensorflow.keras.callbacks import EarlyStopping"
      ]
    },
    {
      "cell_type": "markdown",
      "metadata": {
        "id": "yY9fztIeWIKt"
      },
      "source": [
        "# 1. Data\n",
        "The dataset we will use is the well-known CIFAR10 (Canadian Institute For Advanced Research). Explore the details on the Keras website first: https://keras.io/api/datasets/cifar10/\n",
        "\n",
        "There isn't much difference between the data preprocessing part and the one we did before. The only difference is that we don't have to reshape images into vectors, but we are working with a 4 dimensional data structure, where the dimensions are: batch, X, Y, and color channels.\n",
        "\n",
        "In the event that anything is not clear regarding the data preparation part, please check the previous CIFAR10 notebook."
      ]
    },
    {
      "cell_type": "code",
      "execution_count": 2,
      "metadata": {
        "colab": {
          "base_uri": "https://localhost:8080/"
        },
        "id": "bez7q0eiWQCK",
        "outputId": "b0801fa0-211d-4a42-f6c9-1e4615b01ecc"
      },
      "outputs": [],
      "source": [
        "(X_train, Y_train), (X_test, Y_test) = cifar10.load_data()"
      ]
    },
    {
      "cell_type": "code",
      "execution_count": 3,
      "metadata": {
        "id": "vukOcBM0XzSj"
      },
      "outputs": [],
      "source": [
        "# it is in int8 format, the neural network requires float32\n",
        "X_train = X_train.astype(\"float32\")\n",
        "X_test = X_test.astype(\"float32\")"
      ]
    },
    {
      "cell_type": "code",
      "execution_count": 4,
      "metadata": {
        "id": "mRwuWxxIxLgN"
      },
      "outputs": [],
      "source": [
        "train_ratio  = 0.8\n",
        "train_length = X_train.shape[0]\n",
        "train_split  = int(train_ratio*train_length)\n",
        "X_valid, Y_valid = X_train[train_split:], Y_train[train_split:]\n",
        "X_train, Y_train = X_train[:train_split], Y_train[:train_split]"
      ]
    },
    {
      "cell_type": "code",
      "execution_count": 5,
      "metadata": {
        "id": "2ESLP1EIyB2J"
      },
      "outputs": [],
      "source": [
        "mean = X_train.mean(axis=0)\n",
        "std  = X_train.std(axis=0)\n",
        "\n",
        "X_train = (X_train-mean)/std\n",
        "X_valid = (X_valid-mean)/std\n",
        "X_test  = (X_test-mean)/std"
      ]
    },
    {
      "cell_type": "code",
      "execution_count": 6,
      "metadata": {
        "id": "xwZ4OJ6I8lba"
      },
      "outputs": [],
      "source": [
        "nb_classes = len(np.unique(Y_train))\n",
        "Y_train = to_categorical(Y_train, nb_classes)\n",
        "Y_valid = to_categorical(Y_valid, nb_classes)\n",
        "Y_test  = to_categorical(Y_test, nb_classes)"
      ]
    },
    {
      "cell_type": "code",
      "execution_count": 7,
      "metadata": {
        "colab": {
          "base_uri": "https://localhost:8080/"
        },
        "id": "O_jdJVcvX0vi",
        "outputId": "bf51ff29-52b9-4d7f-defd-ee4725268217"
      },
      "outputs": [
        {
          "name": "stdout",
          "output_type": "stream",
          "text": [
            "Shapes of the training, validation and test input data: (40000, 32, 32, 3) (10000, 32, 32, 3) (10000, 32, 32, 3)\n",
            "Shapes of the training, validation and test output data: (40000, 10) (10000, 10) (10000, 10)\n",
            "Mean values of the training, validation and test input data: 2.2788842e-09 0.0023437198 0.013331206\n",
            "Standard deviation of the training, validation and test input data: 1.0000023 0.9965626 0.99783075\n"
          ]
        }
      ],
      "source": [
        "print(\"Shapes of the training, validation and test input data:\", X_train.shape, X_valid.shape, X_test.shape)\n",
        "print(\"Shapes of the training, validation and test output data:\", Y_train.shape, Y_valid.shape, Y_test.shape)\n",
        "print(\"Mean values of the training, validation and test input data:\", X_train.mean(), X_valid.mean(), X_test.mean())\n",
        "print(\"Standard deviation of the training, validation and test input data:\", X_train.std(), X_valid.std(), X_test.std())"
      ]
    },
    {
      "cell_type": "markdown",
      "metadata": {
        "id": "cJ14oyZExpqj"
      },
      "source": [
        "# 2. Exercise: training"
      ]
    },
    {
      "cell_type": "markdown",
      "metadata": {
        "id": "j1tGVPdD-pp3"
      },
      "source": [
        "Create and train a convolutional neural network with the following requirements:\n",
        "* apply early stopping with patience=5 and monitor the validation accuracy, don't forget to load back the best weights after early stopping\n",
        "* the number of trainable parameters is lower than 200.000\n",
        "* the validation accuracy must be higher than 72%\n",
        "\n",
        "Hints:\n",
        "* you can always inspect the number of trainable parameters per layer with model.summary()\n",
        "* usually the most trainable parameters are between the last convolutional layer and the next dense layer -- so you should have a reasonable output size at the last convolutional layer\n",
        "* regularization helps (e.g. DropOut and/or BatchNormalization)\n",
        "* use the right activation function at the output layer and the corresponding loss function\n",
        "* for the chosen activation functions, please use the appropriate initialization method\n",
        "* you can match the dimension of the last conv/pooling layer to the next dense layer with e.g. Flatten()\n",
        "* ADAM optimizer is a reasonable choice\n",
        "* don't forget to turn on GPU support in Colab, otherwise, it would be quite slow to train the networks\n",
        "\n"
      ]
    },
    {
      "cell_type": "code",
      "execution_count": 13,
      "metadata": {
        "id": "5dBQxJHIHrbd"
      },
      "outputs": [],
      "source": [
        "es = EarlyStopping(monitor='val_accuracy', patience=5, restore_best_weights=True) # early stopping"
      ]
    },
    {
      "cell_type": "code",
      "execution_count": 31,
      "metadata": {
        "id": "PuxHOqLt-3Nd"
      },
      "outputs": [],
      "source": [
        "# model definition\n",
        "model = Sequential()\n",
        "model.add(Conv2D(32, (3, 3), activation=\"relu\", kernel_initializer=HeNormal(), input_shape=(32, 32, 3)))\n",
        "model.add(BatchNormalization())\n",
        "model.add(MaxPool2D((2, 2)))\n",
        "model.add(Dropout(0.2))\n",
        "model.add(Conv2D(64, (3, 3), activation=\"relu\", kernel_initializer=HeNormal()))\n",
        "model.add(BatchNormalization())\n",
        "model.add(MaxPool2D((2, 2)))\n",
        "model.add(Dropout(0.2))\n",
        "model.add(Conv2D(32, (3, 3), activation=\"relu\", kernel_initializer=HeNormal()))\n",
        "model.add(BatchNormalization())\n",
        "model.add(MaxPool2D((2, 2)))\n",
        "model.add(Dropout(0.2))\n",
        "model.add(Flatten())\n",
        "model.add(Dense(128, activation=\"relu\", kernel_initializer=HeNormal()))\n",
        "model.add(Dense(10, activation=\"softmax\", kernel_initializer=HeNormal()))\n",
        "\n",
        "# loss function and optimizer\n",
        "model.compile(optimizer=\"adam\", loss=\"categorical_crossentropy\", metrics=[\"accuracy\"])"
      ]
    },
    {
      "cell_type": "code",
      "execution_count": 32,
      "metadata": {
        "id": "5eomQw8uE9Ix"
      },
      "outputs": [
        {
          "name": "stdout",
          "output_type": "stream",
          "text": [
            "Model: \"sequential_5\"\n",
            "_________________________________________________________________\n",
            " Layer (type)                Output Shape              Param #   \n",
            "=================================================================\n",
            " conv2d_11 (Conv2D)          (None, 30, 30, 32)        896       \n",
            "                                                                 \n",
            " batch_normalization_11 (Ba  (None, 30, 30, 32)        128       \n",
            " tchNormalization)                                               \n",
            "                                                                 \n",
            " max_pooling2d_11 (MaxPooli  (None, 15, 15, 32)        0         \n",
            " ng2D)                                                           \n",
            "                                                                 \n",
            " dropout_9 (Dropout)         (None, 15, 15, 32)        0         \n",
            "                                                                 \n",
            " conv2d_12 (Conv2D)          (None, 13, 13, 64)        18496     \n",
            "                                                                 \n",
            " batch_normalization_12 (Ba  (None, 13, 13, 64)        256       \n",
            " tchNormalization)                                               \n",
            "                                                                 \n",
            " max_pooling2d_12 (MaxPooli  (None, 6, 6, 64)          0         \n",
            " ng2D)                                                           \n",
            "                                                                 \n",
            " dropout_10 (Dropout)        (None, 6, 6, 64)          0         \n",
            "                                                                 \n",
            " conv2d_13 (Conv2D)          (None, 4, 4, 32)          18464     \n",
            "                                                                 \n",
            " batch_normalization_13 (Ba  (None, 4, 4, 32)          128       \n",
            " tchNormalization)                                               \n",
            "                                                                 \n",
            " max_pooling2d_13 (MaxPooli  (None, 2, 2, 32)          0         \n",
            " ng2D)                                                           \n",
            "                                                                 \n",
            " dropout_11 (Dropout)        (None, 2, 2, 32)          0         \n",
            "                                                                 \n",
            " flatten_4 (Flatten)         (None, 128)               0         \n",
            "                                                                 \n",
            " dense_10 (Dense)            (None, 128)               16512     \n",
            "                                                                 \n",
            " dense_11 (Dense)            (None, 10)                1290      \n",
            "                                                                 \n",
            "=================================================================\n",
            "Total params: 56170 (219.41 KB)\n",
            "Trainable params: 55914 (218.41 KB)\n",
            "Non-trainable params: 256 (1.00 KB)\n",
            "_________________________________________________________________\n"
          ]
        }
      ],
      "source": [
        "model.summary()"
      ]
    },
    {
      "cell_type": "markdown",
      "metadata": {
        "id": "8tIbIIeTEI41"
      },
      "source": [
        "Please, check the number of trainable paramers:"
      ]
    },
    {
      "cell_type": "code",
      "execution_count": 33,
      "metadata": {
        "id": "xdBAG7EJETlX"
      },
      "outputs": [
        {
          "name": "stdout",
          "output_type": "stream",
          "text": [
            "#trainable parameters: 56170\n"
          ]
        }
      ],
      "source": [
        "print(\"#trainable parameters:\",model.count_params())"
      ]
    },
    {
      "cell_type": "code",
      "execution_count": 34,
      "metadata": {
        "id": "u8tFNCNVHyt9"
      },
      "outputs": [
        {
          "name": "stdout",
          "output_type": "stream",
          "text": [
            "Epoch 1/100\n",
            "625/625 [==============================] - 13s 21ms/step - loss: 1.7167 - accuracy: 0.3867 - val_loss: 1.3787 - val_accuracy: 0.4953\n",
            "Epoch 2/100\n",
            "625/625 [==============================] - 12s 20ms/step - loss: 1.3244 - accuracy: 0.5212 - val_loss: 1.3285 - val_accuracy: 0.5344\n",
            "Epoch 3/100\n",
            "625/625 [==============================] - 12s 19ms/step - loss: 1.1983 - accuracy: 0.5705 - val_loss: 1.1278 - val_accuracy: 0.5960\n",
            "Epoch 4/100\n",
            "625/625 [==============================] - 12s 19ms/step - loss: 1.1176 - accuracy: 0.5995 - val_loss: 1.0481 - val_accuracy: 0.6248\n",
            "Epoch 5/100\n",
            "625/625 [==============================] - 12s 19ms/step - loss: 1.0672 - accuracy: 0.6186 - val_loss: 1.0073 - val_accuracy: 0.6417\n",
            "Epoch 6/100\n",
            "625/625 [==============================] - 12s 19ms/step - loss: 1.0051 - accuracy: 0.6406 - val_loss: 0.9407 - val_accuracy: 0.6632\n",
            "Epoch 7/100\n",
            "625/625 [==============================] - 12s 20ms/step - loss: 0.9690 - accuracy: 0.6578 - val_loss: 0.9042 - val_accuracy: 0.6792\n",
            "Epoch 8/100\n",
            "625/625 [==============================] - 12s 19ms/step - loss: 0.9318 - accuracy: 0.6680 - val_loss: 0.8746 - val_accuracy: 0.6904\n",
            "Epoch 9/100\n",
            "625/625 [==============================] - 12s 19ms/step - loss: 0.9016 - accuracy: 0.6791 - val_loss: 0.8571 - val_accuracy: 0.6984\n",
            "Epoch 10/100\n",
            "625/625 [==============================] - 12s 19ms/step - loss: 0.8807 - accuracy: 0.6889 - val_loss: 0.8460 - val_accuracy: 0.6982\n",
            "Epoch 11/100\n",
            "625/625 [==============================] - 12s 20ms/step - loss: 0.8557 - accuracy: 0.6976 - val_loss: 0.8455 - val_accuracy: 0.7025\n",
            "Epoch 12/100\n",
            "625/625 [==============================] - 13s 20ms/step - loss: 0.8343 - accuracy: 0.7034 - val_loss: 0.8193 - val_accuracy: 0.7133\n",
            "Epoch 13/100\n",
            "625/625 [==============================] - 12s 19ms/step - loss: 0.8151 - accuracy: 0.7107 - val_loss: 0.8096 - val_accuracy: 0.7173\n",
            "Epoch 14/100\n",
            "625/625 [==============================] - 12s 19ms/step - loss: 0.7993 - accuracy: 0.7192 - val_loss: 0.7699 - val_accuracy: 0.7301\n",
            "Epoch 15/100\n",
            "625/625 [==============================] - 12s 20ms/step - loss: 0.7861 - accuracy: 0.7195 - val_loss: 0.7879 - val_accuracy: 0.7244\n",
            "Epoch 16/100\n",
            "625/625 [==============================] - 12s 19ms/step - loss: 0.7713 - accuracy: 0.7294 - val_loss: 0.7514 - val_accuracy: 0.7356\n",
            "Epoch 17/100\n",
            "625/625 [==============================] - 12s 19ms/step - loss: 0.7598 - accuracy: 0.7302 - val_loss: 0.7661 - val_accuracy: 0.7359\n",
            "Epoch 18/100\n",
            "625/625 [==============================] - 12s 19ms/step - loss: 0.7478 - accuracy: 0.7344 - val_loss: 0.7628 - val_accuracy: 0.7295\n",
            "Epoch 19/100\n",
            "625/625 [==============================] - 12s 19ms/step - loss: 0.7374 - accuracy: 0.7384 - val_loss: 0.7284 - val_accuracy: 0.7464\n",
            "Epoch 20/100\n",
            "625/625 [==============================] - 12s 20ms/step - loss: 0.7211 - accuracy: 0.7432 - val_loss: 0.7332 - val_accuracy: 0.7464\n",
            "Epoch 21/100\n",
            "625/625 [==============================] - 12s 20ms/step - loss: 0.7180 - accuracy: 0.7455 - val_loss: 0.7092 - val_accuracy: 0.7569\n",
            "Epoch 22/100\n",
            "625/625 [==============================] - 13s 21ms/step - loss: 0.7025 - accuracy: 0.7518 - val_loss: 0.7254 - val_accuracy: 0.7492\n",
            "Epoch 23/100\n",
            "625/625 [==============================] - 13s 21ms/step - loss: 0.7022 - accuracy: 0.7487 - val_loss: 0.7047 - val_accuracy: 0.7529\n",
            "Epoch 24/100\n",
            "625/625 [==============================] - 13s 20ms/step - loss: 0.6927 - accuracy: 0.7558 - val_loss: 0.7267 - val_accuracy: 0.7501\n",
            "Epoch 25/100\n",
            "625/625 [==============================] - 13s 20ms/step - loss: 0.6893 - accuracy: 0.7537 - val_loss: 0.6994 - val_accuracy: 0.7591\n",
            "Epoch 26/100\n",
            "625/625 [==============================] - 12s 20ms/step - loss: 0.6812 - accuracy: 0.7565 - val_loss: 0.7233 - val_accuracy: 0.7520\n",
            "Epoch 27/100\n",
            "625/625 [==============================] - 13s 20ms/step - loss: 0.6782 - accuracy: 0.7602 - val_loss: 0.6896 - val_accuracy: 0.7638\n",
            "Epoch 28/100\n",
            "625/625 [==============================] - 13s 20ms/step - loss: 0.6619 - accuracy: 0.7669 - val_loss: 0.6841 - val_accuracy: 0.7658\n",
            "Epoch 29/100\n",
            "625/625 [==============================] - 13s 20ms/step - loss: 0.6591 - accuracy: 0.7637 - val_loss: 0.7004 - val_accuracy: 0.7595\n",
            "Epoch 30/100\n",
            "625/625 [==============================] - 13s 21ms/step - loss: 0.6594 - accuracy: 0.7659 - val_loss: 0.7270 - val_accuracy: 0.7497\n",
            "Epoch 31/100\n",
            "625/625 [==============================] - 13s 20ms/step - loss: 0.6573 - accuracy: 0.7667 - val_loss: 0.7002 - val_accuracy: 0.7623\n",
            "Epoch 32/100\n",
            "625/625 [==============================] - 13s 20ms/step - loss: 0.6516 - accuracy: 0.7681 - val_loss: 0.6838 - val_accuracy: 0.7664\n",
            "Epoch 33/100\n",
            "625/625 [==============================] - 13s 21ms/step - loss: 0.6433 - accuracy: 0.7724 - val_loss: 0.6994 - val_accuracy: 0.7596\n",
            "Epoch 34/100\n",
            "625/625 [==============================] - 13s 20ms/step - loss: 0.6404 - accuracy: 0.7704 - val_loss: 0.6796 - val_accuracy: 0.7667\n",
            "Epoch 35/100\n",
            "625/625 [==============================] - 12s 20ms/step - loss: 0.6339 - accuracy: 0.7749 - val_loss: 0.7062 - val_accuracy: 0.7579\n",
            "Epoch 36/100\n",
            "625/625 [==============================] - 12s 20ms/step - loss: 0.6342 - accuracy: 0.7757 - val_loss: 0.6763 - val_accuracy: 0.7705\n",
            "Epoch 37/100\n",
            "625/625 [==============================] - 13s 20ms/step - loss: 0.6217 - accuracy: 0.7803 - val_loss: 0.6811 - val_accuracy: 0.7699\n",
            "Epoch 38/100\n",
            "625/625 [==============================] - 13s 21ms/step - loss: 0.6256 - accuracy: 0.7803 - val_loss: 0.6826 - val_accuracy: 0.7682\n",
            "Epoch 39/100\n",
            "625/625 [==============================] - 12s 20ms/step - loss: 0.6153 - accuracy: 0.7813 - val_loss: 0.6829 - val_accuracy: 0.7673\n",
            "Epoch 40/100\n",
            "625/625 [==============================] - 12s 19ms/step - loss: 0.6150 - accuracy: 0.7810 - val_loss: 0.6649 - val_accuracy: 0.7730\n",
            "Epoch 41/100\n",
            "625/625 [==============================] - 12s 19ms/step - loss: 0.6100 - accuracy: 0.7834 - val_loss: 0.6593 - val_accuracy: 0.7716\n",
            "Epoch 42/100\n",
            "625/625 [==============================] - 12s 20ms/step - loss: 0.6096 - accuracy: 0.7828 - val_loss: 0.6748 - val_accuracy: 0.7720\n",
            "Epoch 43/100\n",
            "625/625 [==============================] - 12s 19ms/step - loss: 0.6096 - accuracy: 0.7851 - val_loss: 0.6635 - val_accuracy: 0.7728\n",
            "Epoch 44/100\n",
            "625/625 [==============================] - 12s 20ms/step - loss: 0.6007 - accuracy: 0.7851 - val_loss: 0.6659 - val_accuracy: 0.7746\n",
            "Epoch 45/100\n",
            "625/625 [==============================] - 12s 20ms/step - loss: 0.6027 - accuracy: 0.7852 - val_loss: 0.6730 - val_accuracy: 0.7663\n",
            "Epoch 46/100\n",
            "625/625 [==============================] - 12s 19ms/step - loss: 0.5984 - accuracy: 0.7872 - val_loss: 0.6768 - val_accuracy: 0.7709\n",
            "Epoch 47/100\n",
            "625/625 [==============================] - 12s 19ms/step - loss: 0.5981 - accuracy: 0.7864 - val_loss: 0.6642 - val_accuracy: 0.7726\n",
            "Epoch 48/100\n",
            "625/625 [==============================] - 12s 19ms/step - loss: 0.5953 - accuracy: 0.7876 - val_loss: 0.6777 - val_accuracy: 0.7702\n",
            "Epoch 49/100\n",
            "625/625 [==============================] - 12s 19ms/step - loss: 0.5905 - accuracy: 0.7903 - val_loss: 0.6514 - val_accuracy: 0.7754\n",
            "Epoch 50/100\n",
            "625/625 [==============================] - 12s 19ms/step - loss: 0.5906 - accuracy: 0.7886 - val_loss: 0.6587 - val_accuracy: 0.7775\n",
            "Epoch 51/100\n",
            "625/625 [==============================] - 12s 19ms/step - loss: 0.5819 - accuracy: 0.7965 - val_loss: 0.6705 - val_accuracy: 0.7707\n",
            "Epoch 52/100\n",
            "625/625 [==============================] - 12s 19ms/step - loss: 0.5839 - accuracy: 0.7925 - val_loss: 0.6685 - val_accuracy: 0.7742\n",
            "Epoch 53/100\n",
            "625/625 [==============================] - 12s 19ms/step - loss: 0.5807 - accuracy: 0.7946 - val_loss: 0.6492 - val_accuracy: 0.7795\n",
            "Epoch 54/100\n",
            "625/625 [==============================] - 12s 19ms/step - loss: 0.5729 - accuracy: 0.7952 - val_loss: 0.6834 - val_accuracy: 0.7695\n",
            "Epoch 55/100\n",
            "625/625 [==============================] - 12s 20ms/step - loss: 0.5797 - accuracy: 0.7932 - val_loss: 0.6672 - val_accuracy: 0.7697\n",
            "Epoch 56/100\n",
            "625/625 [==============================] - 12s 19ms/step - loss: 0.5712 - accuracy: 0.7960 - val_loss: 0.6654 - val_accuracy: 0.7731\n",
            "Epoch 57/100\n",
            "625/625 [==============================] - 12s 19ms/step - loss: 0.5730 - accuracy: 0.7973 - val_loss: 0.6681 - val_accuracy: 0.7752\n",
            "Epoch 58/100\n",
            "625/625 [==============================] - 12s 19ms/step - loss: 0.5716 - accuracy: 0.7979 - val_loss: 0.6613 - val_accuracy: 0.7779\n"
          ]
        }
      ],
      "source": [
        "# training\n",
        "network_history = model.fit(X_train, Y_train, epochs=100, batch_size=64, validation_data=(X_valid, Y_valid), callbacks=[es])"
      ]
    },
    {
      "cell_type": "markdown",
      "metadata": {
        "id": "2FtKp-a2-A9m"
      },
      "source": [
        "# 3. Exercise: evaluation on test data\n",
        "You will evaluate the classification of the test data using the common metrics and the confusion matrix in this section.\n",
        "\n",
        "\n",
        "As a first stes, let's run the predictions and convert the predicted softmax outputs to dense labels. The one-hot encoded labels are also converted back to dense labels, as they are required for the evaluation functions."
      ]
    },
    {
      "cell_type": "code",
      "execution_count": 35,
      "metadata": {
        "id": "EcWAqwlDMq3y"
      },
      "outputs": [
        {
          "name": "stdout",
          "output_type": "stream",
          "text": [
            "313/313 [==============================] - 1s 4ms/step\n"
          ]
        }
      ],
      "source": [
        "probas = model.predict(X_test)\n",
        "preds  = np.argmax(probas,axis=1)\n",
        "Y_test_dense = np.argmax(Y_test, axis=1) # get the original dense labels of the test data"
      ]
    },
    {
      "cell_type": "markdown",
      "metadata": {
        "id": "RWJ-PH_iMs9K"
      },
      "source": [
        "## 3.1. Exercise: Metrics\n",
        "please review the common classification metrics (accuracy, precision, recall, F1) for the complete model (not per class).\n",
        "\n",
        "Hints:\n",
        "* use macro averaging\n",
        "* you have to import the right functions from [sklearn.metrics](https://scikit-learn.org/stable/modules/model_evaluation.html)\n"
      ]
    },
    {
      "cell_type": "code",
      "execution_count": 45,
      "metadata": {
        "id": "5sKm5zHSMZ_x"
      },
      "outputs": [],
      "source": [
        "from sklearn.metrics import accuracy_score, precision_score, recall_score, f1_score, classification_report"
      ]
    },
    {
      "cell_type": "code",
      "execution_count": 46,
      "metadata": {
        "id": "I3_9wgDREUna"
      },
      "outputs": [
        {
          "name": "stdout",
          "output_type": "stream",
          "text": [
            "Accuracy: 0.7736\n",
            "Precision: 0.7735827373228051\n",
            "Recall: 0.7735999999999998\n",
            "F1: 0.7708970297099063\n",
            "              precision    recall  f1-score   support\n",
            "\n",
            "           0       0.79      0.79      0.79      1000\n",
            "           1       0.91      0.84      0.87      1000\n",
            "           2       0.78      0.58      0.66      1000\n",
            "           3       0.61      0.57      0.59      1000\n",
            "           4       0.75      0.76      0.76      1000\n",
            "           5       0.70      0.71      0.70      1000\n",
            "           6       0.76      0.90      0.82      1000\n",
            "           7       0.81      0.83      0.82      1000\n",
            "           8       0.80      0.92      0.85      1000\n",
            "           9       0.82      0.84      0.83      1000\n",
            "\n",
            "    accuracy                           0.77     10000\n",
            "   macro avg       0.77      0.77      0.77     10000\n",
            "weighted avg       0.77      0.77      0.77     10000\n",
            "\n"
          ]
        }
      ],
      "source": [
        "print(\"Accuracy:\", accuracy_score(Y_test_dense, preds))\n",
        "print(\"Precision:\", precision_score(Y_test_dense, preds, average=\"macro\"))\n",
        "print(\"Recall:\" , recall_score(Y_test_dense, preds, average=\"macro\"))\n",
        "print(\"F1:\", f1_score(Y_test_dense, preds, average=\"macro\"))\n",
        "print(classification_report(Y_test_dense, preds))"
      ]
    },
    {
      "cell_type": "markdown",
      "metadata": {
        "id": "ECHguBFtGL7f"
      },
      "source": [
        "\n",
        "## 3.2. Exercise: Confusion matrix\n",
        "Calculate the confusion matrix and display the results in a heatmap (with decimal values).\n",
        "\n",
        "Hints:\n",
        "* you have to do the imports this time too, e.g. from [sklearn.metrics](https://scikit-learn.org/stable/modules/model_evaluation.html) and the [heatmap function](https://seaborn.pydata.org/generated/seaborn.heatmap.html) of [seaborn](https://seaborn.pydata.org/)\n",
        "* for displaying the decimal values, you have to turn annot=True and define fmt='d' in the heatmap function of seaborn"
      ]
    },
    {
      "cell_type": "code",
      "execution_count": 39,
      "metadata": {
        "id": "SIi2VzMBO3yD"
      },
      "outputs": [],
      "source": [
        "from sklearn.metrics import confusion_matrix\n",
        "import seaborn as sns"
      ]
    },
    {
      "cell_type": "code",
      "execution_count": 47,
      "metadata": {
        "id": "cdqODx92Svw7"
      },
      "outputs": [
        {
          "data": {
            "text/plain": [
              "<Axes: >"
            ]
          },
          "execution_count": 47,
          "metadata": {},
          "output_type": "execute_result"
        },
        {
          "data": {
            "image/png": "[encoded data removed]",
            "text/plain": [
              "<Figure size 700x600 with 2 Axes>"
            ]
          },
          "metadata": {},
          "output_type": "display_data"
        }
      ],
      "source": [
        "conf = confusion_matrix(Y_test_dense, preds)\n",
        "plt.figure(figsize=(7,6))\n",
        "sns.heatmap(conf, annot=True, fmt=\"d\")"
      ]
    },
    {
      "cell_type": "code",
      "execution_count": null,
      "metadata": {},
      "outputs": [],
      "source": []
    }
  ],
  "metadata": {
    "accelerator": "GPU",
    "anaconda-cloud": {},
    "colab": {
      "provenance": []
    },
    "kernelspec": {
      "display_name": "Python 3",
      "language": "python",
      "name": "python3"
    },
    "language_info": {
      "codemirror_mode": {
        "name": "ipython",
        "version": 3
      },
      "file_extension": ".py",
      "mimetype": "text/x-python",
      "name": "python",
      "nbconvert_exporter": "python",
      "pygments_lexer": "ipython3",
      "version": "3.10.13"
    }
  },
  "nbformat": 4,
  "nbformat_minor": 0
}
